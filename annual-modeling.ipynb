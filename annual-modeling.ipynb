{
 "cells": [
  {
   "cell_type": "markdown",
   "metadata": {},
   "source": [
    "# Step 4: Annual Modeling \n",
    "In this notebook, we will try modeling gun violence trends annually. Since we have more annual data than monthly data, our goal is to see whether the annual features will be more helpful here."
   ]
  },
  {
   "cell_type": "code",
   "execution_count": 197,
   "metadata": {
    "collapsed": true
   },
   "outputs": [],
   "source": [
    "# Import defaultdict\n",
    "from collections import defaultdict\n",
    "\n",
    "# Numpy and pandas for manipulating the data\n",
    "import numpy as np\n",
    "import pandas as pd\n",
    "\n",
    "# Matplotlib and seaborn for visualization\n",
    "import matplotlib as mpl\n",
    "from matplotlib import pyplot as plt\n",
    "import seaborn as sns\n",
    "\n",
    "# GridSearchCV for training \n",
    "from sklearn.model_selection import GridSearchCV\n",
    "\n",
    "# Performance metrics from sklearn\n",
    "from sklearn.metrics import mean_squared_error\n",
    "from sklearn.metrics import accuracy_score\n",
    "from sklearn.metrics import confusion_matrix\n",
    "\n",
    "# Prophet for time forecasting\n",
    "from fbprophet import Prophet\n",
    "\n",
    "# Classification models\n",
    "from xgboost import XGBClassifier\n",
    "from sklearn.linear_model import LogisticRegression\n",
    "from sklearn.ensemble import RandomForestClassifier, AdaBoostClassifier\n",
    "from sklearn.naive_bayes import GaussianNB\n",
    "from sklearn.neighbors import KNeighborsClassifier\n",
    "from sklearn.neural_network import MLPClassifier\n",
    "\n",
    "\n",
    "# To hide stdout because Prophet can be loud\n",
    "import logging\n",
    "logging.getLogger('fbprophet').setLevel(logging.WARNING)"
   ]
  },
  {
   "cell_type": "code",
   "execution_count": 198,
   "metadata": {},
   "outputs": [],
   "source": [
    "annual_file = './data/cleaned/annual.csv'\n",
    "by_date_total_file = './data/cleaned/by_date_total.csv'\n",
    "provisions_file = './data/raw/provisions.csv'\n",
    "useful_singles_file = './data/cleaned/useful_singles.csv'\n",
    "useful_doubles_file = './data/cleaned/useful_doubles.csv'\n",
    "\n",
    "annual_df = pd.read_csv(annual_file, parse_dates=True, index_col=0)\n",
    "by_date_total_df = pd.read_csv(by_date_total_file, parse_dates=True, index_col=0)\n",
    "provisions_df = pd.read_csv(provisions_file, parse_dates=True)\n",
    "useful_singles_df = pd.read_csv(useful_singles_file, parse_dates=True, index_col=0)\n",
    "useful_doubles_df = pd.read_csv(useful_doubles_file, parse_dates=True, index_col=0)"
   ]
  },
  {
   "cell_type": "markdown",
   "metadata": {},
   "source": [
    "## Fixing up features\n",
    "As before, there are still a couple of features to be tweaked. We need to remove redundant columns and add the label and the provisions."
   ]
  },
  {
   "cell_type": "markdown",
   "metadata": {},
   "source": [
    "## After some experimentation, I went with only 3 features (not including dummies and provision features) because there isn't enough data for the other features and including them severely limited the years which we could use our training data. "
   ]
  },
  {
   "cell_type": "code",
   "execution_count": 199,
   "metadata": {},
   "outputs": [],
   "source": [
    "# Hand-pick features to add.\n",
    "features_to_add = [\n",
    "#                     'population',\n",
    "#                     'violent_crime', 'property_crime', 'other_crime', \n",
    "#                     'murder_crime', \n",
    "#                     'rape_crime', 'robbery_crime', 'assault_crime', 'burglary_crime',\n",
    "#                     'vehicle_theft_crime', 'other_crime', \n",
    "#                     'income', 'alcohol_consumed', \n",
    "                    'democrat', 'republican', \n",
    "#                     'machinegun', 'total_weapons', \n",
    "#                     'marijuana', 'cocaine', 'tobacco', 'alcohol_abuse',\n",
    "#                     'mental', 'depression',\n",
    "                    'gun_deaths'\n",
    "                  ]\n",
    "\n",
    "# Filter annual_df, including state and year  \n",
    "annual_df = annual_df[features_to_add + ['state', 'year']]\n",
    "\n",
    "# Create columns for next year's gun deaths (what we want to predict for each row)\n",
    "next_annual_df = pd.DataFrame()\n",
    "next_annual_df['state'] = annual_df['state']\n",
    "next_annual_df['this_year'] = annual_df['year'] - 1\n",
    "next_annual_df['next_year'] = annual_df['year']\n",
    "next_annual_df['next_gun_deaths'] = annual_df['gun_deaths']\n",
    "\n",
    "# Merge so we have next year's gun deaths in each row\n",
    "annual_df = pd.merge(annual_df, next_annual_df,\n",
    "         left_on=['year', 'state'], right_on=['this_year', 'state'])\n",
    "\n",
    "# Drop year, as it is now named this_year\n",
    "annual_df = annual_df.drop('year', axis=1)\n",
    "\n",
    "# We also add change from last year in order to get some differencing \n",
    "last_annual_df = pd.DataFrame()\n",
    "last_annual_df['state'] = annual_df['state']\n",
    "last_annual_df['this_year'] = annual_df['this_year'] + 1\n",
    "last_annual_df['last_year'] = annual_df['this_year']\n",
    "for feature in features_to_add:\n",
    "    last_annual_df['last_' + feature] = annual_df[feature]\n",
    "\n",
    "annual_df = pd.merge(annual_df, last_annual_df,\n",
    "                    left_on=['this_year', 'state'], right_on=['this_year', 'state'])\n",
    "\n",
    "# Replace last year value with change from last year\n",
    "for feature in features_to_add:\n",
    "    current = annual_df[feature]\n",
    "    last = annual_df['last_' + feature]\n",
    "    annual_df[feature + '_change'] = (current - last) / np.clip(last, 1, None)\n",
    "    annual_df = annual_df.drop('last_' + feature, axis=1)"
   ]
  },
  {
   "cell_type": "code",
   "execution_count": 200,
   "metadata": {
    "collapsed": true
   },
   "outputs": [],
   "source": [
    "# Add only the useful provisions to our feature_df (k from this year and k from n years prior)\n",
    "def add_provisions(annual_df, provisions_df, useful_singles_df, \n",
    "                   useful_doubles_df, k_s=10, k_d=15, n=5):\n",
    "    \n",
    "    # Get the state and year columns for a join later and lawtotal to account for excluded provisions\n",
    "    singles = list(useful_singles_df.head(k_s)['provision'].values)\n",
    "    doubles = list(useful_doubles_df.head(k_d)['provision'].values)\n",
    "    others = ['year', 'state', 'lawtotal'] # Add lawtotal and the year, state for merging \n",
    "    columns = singles + doubles + others\n",
    "    \n",
    "    # Extend provisions_df to include pairs\n",
    "    provisions = provisions_df.columns[2:-1]\n",
    "    for i in range(provisions.shape[0]):\n",
    "        for j in range(i, provisions.shape[0]):\n",
    "            # p1 p2 the two provisions to use\n",
    "            p1 = provisions[i]\n",
    "            p2 = provisions[j]\n",
    "            provisions_df[p1 + '_' + p2] = provisions_df[p1] * provisions_df[p2]\n",
    "  \n",
    "    # Get the years \n",
    "    years = annual_df.groupby('this_year').count().index.values\n",
    "\n",
    "    # Keep track of provisions for this year and n years prior\n",
    "    current_provisions = []\n",
    "    old_provisions = []\n",
    "\n",
    "    # Add the provisions from each year to a list\n",
    "    for year in years:\n",
    "        current_filter_df = provisions_df[provisions_df['year'] == year]\n",
    "        old_filter_df = provisions_df[provisions_df['year'] == year - n]\n",
    "        \n",
    "        # Add the columns\n",
    "        current_provisions.append(current_filter_df[columns])\n",
    "        old_provisions.append(old_filter_df[columns])\n",
    "        \n",
    "    # Put the provisions into a DataFrame\n",
    "    current_provisions = pd.concat(current_provisions)\n",
    "    old_provisions = pd.concat(old_provisions)\n",
    "    old_provisions['year'] += n # Match the year which we want to join onto\n",
    "\n",
    "    # Merge the provisions\n",
    "    all_provisions = pd.merge(current_provisions, old_provisions, \n",
    "                              on=['state', 'year'], suffixes=('', '_old'))\n",
    "\n",
    "    # Add provisions to feature_df and return the new feature_df\n",
    "    annual_df = pd.merge(annual_df, all_provisions, \n",
    "                          left_on=['this_year', 'state'], \n",
    "                          right_on=['year', 'state'])\n",
    "    return annual_df.drop('year', axis=1)"
   ]
  },
  {
   "cell_type": "code",
   "execution_count": 201,
   "metadata": {
    "scrolled": true
   },
   "outputs": [
    {
     "name": "stdout",
     "output_type": "stream",
     "text": [
      "41 states\n",
      "0.829268292683\n"
     ]
    }
   ],
   "source": [
    "# Add provisions to our annual_df: 15 singles, 20 pairs for this year and 3 years prior\n",
    "annual_df = add_provisions(annual_df, provisions_df, useful_singles_df, \n",
    "                            useful_doubles_df, k_s=15, k_d=20, n=3)\n",
    "\n",
    "# Extra columns to be dropped from predictors (they tell the future)\n",
    "extra_columns = ['label', 'next_gun_deaths', 'next_gun_deaths_change']\n",
    "\n",
    "# Add poly features?\n",
    "\n",
    "# Drop District of Columbia\n",
    "annual_df = annual_df[annual_df['state'] != 'District of Columbia']\n",
    "\n",
    "# Drop states that have really low averages\n",
    "min_deaths = 20\n",
    "average_deaths = annual_df.groupby('state')['gun_deaths'].mean()\n",
    "excluded = average_deaths[average_deaths < min_deaths].index\n",
    "states = average_deaths[average_deaths >= min_deaths].index\n",
    "\n",
    "# Filter out the states\n",
    "annual_df = annual_df[annual_df['state'].isin(states)]\n",
    "print('{} states'.format(states.shape[0]))\n",
    "\n",
    "# Create a label (gun deaths increases by more than 10%)\n",
    "this_deaths = annual_df['gun_deaths']\n",
    "next_deaths = annual_df['next_gun_deaths']\n",
    "rate_change = (next_deaths - this_deaths ) / this_deaths\n",
    "\n",
    "annual_df['next_gun_deaths_change'] = rate_change\n",
    "annual_df['label'] = rate_change > 0.20\n",
    "# Print baseline accuracy for this label\n",
    "print(1 - annual_df[annual_df['this_year'] == 2016]['label'].mean())\n",
    "\n",
    "# Make dummies for states\n",
    "annual_df = pd.get_dummies(annual_df, columns=['state'])"
   ]
  },
  {
   "cell_type": "code",
   "execution_count": 202,
   "metadata": {
    "collapsed": true
   },
   "outputs": [],
   "source": [
    "# Make a function to train our models and return the results\n",
    "def train_models(annual_df, models, test_year, extra_columns):\n",
    "    \"\"\" Function to train models, returning test and train predictions and trained models.\n",
    "    feature_df   (DataFrame): Pandas DataFrame with all of the features, including the label\n",
    "    \n",
    "    models            (dict): dict with model names as keys and model, params pairs as values \n",
    "    \n",
    "    test_year          (int): Year to test on\n",
    "    \n",
    "    extra_columns     (list): List of columns to drop before training (columns that would either \n",
    "    not help with the predictions, or would be cheating by using the label itself). \n",
    "    \n",
    "    \"\"\"\n",
    "    \n",
    "    # Initialize the dictionaries we will be returning later\n",
    "    training_history = defaultdict(list)\n",
    "    testing_history = defaultdict(list)\n",
    "    testing_history_probs = defaultdict(list)\n",
    "    trained_models = defaultdict(dict)\n",
    "    \n",
    "    feature_df = annual_df.dropna(axis=1)\n",
    "\n",
    "    # Training data is all data before next_year\n",
    "    # Testing data all data during next_year\n",
    "    train_filter = feature_df['next_year'] < test_year\n",
    "    test_filter = feature_df['next_year'] >= test_year\n",
    "\n",
    "    # Partition the feature_df for the training and testing sets\n",
    "    X_train = feature_df.loc[train_filter].drop(extra_columns, axis=1).values\n",
    "    y_train = feature_df.loc[train_filter, 'label']\n",
    "\n",
    "    # Note that the test set has only ONE row for each state. \n",
    "    X_test = feature_df.loc[test_filter].drop(extra_columns, axis=1).values\n",
    "    y_test = feature_df.loc[test_filter, 'label']\n",
    "\n",
    "    # Keep track of predictions so we can train the meta model as well\n",
    "    meta_train = []\n",
    "    meta_test = []\n",
    "    for name, (model, parameters) in models.items():\n",
    "        clf = GridSearchCV(model, parameters)\n",
    "        clf.fit(X_train, y_train)\n",
    "\n",
    "        # Make predictions on training set\n",
    "        train_preds = clf.predict(X_train)\n",
    "        test_preds = clf.predict(X_test)\n",
    "        train_probs = clf.best_estimator_.predict_proba(X_train)[:, 0]\n",
    "        test_probs = clf.best_estimator_.predict_proba(X_test)[:, 0]\n",
    "\n",
    "        # Make meta features to train the meta model on\n",
    "        meta_train.append(train_probs)\n",
    "        meta_test.append(test_probs)\n",
    "\n",
    "        # Keep track of the predictions\n",
    "        training_history[name].append(train_preds)\n",
    "        testing_history[name].extend(test_preds)\n",
    "        testing_history_probs[name].extend(test_probs)\n",
    "\n",
    "        # Remember the last model\n",
    "        trained_models[name] = clf\n",
    "\n",
    "    # Take transpose of meta features so that observations are rows\n",
    "    meta_train = np.array(meta_train).T\n",
    "    meta_test = np.array(meta_test).T\n",
    "\n",
    "    # Create and train the meta model\n",
    "    clf = GridSearchCV(XGBClassifier(), xgb_params)\n",
    "    clf.fit(meta_train, y_train)\n",
    "\n",
    "    # Make training and testing predictions\n",
    "    train_preds = clf.predict(meta_train)\n",
    "    test_preds = clf.predict(meta_test)\n",
    "\n",
    "    # Keep track of the predictions\n",
    "    training_history['meta'].append(train_preds)\n",
    "    testing_history['meta'].extend(test_preds)\n",
    "    testing_history_probs['meta'].extend(test_probs)\n",
    "    return training_history, testing_history, testing_history_probs, trained_models"
   ]
  },
  {
   "cell_type": "markdown",
   "metadata": {
    "collapsed": true
   },
   "source": [
    "## Training models\n",
    "At this point we should make an important decision. We have to decide the years which we will be training on, as some of our data is not available for earlier years. In this first test, I decided to drop the features that we have insufficient data for, and just training on the features that have complete data for all years."
   ]
  },
  {
   "cell_type": "code",
   "execution_count": 203,
   "metadata": {
    "collapsed": true
   },
   "outputs": [],
   "source": [
    "# Make our models that we want to train\n",
    "# Parameters for XGBClassifier\n",
    "xgb_params = {\n",
    "  'max_depth': [3, 5, 7, 9], \n",
    "  'n_estimators': [30, 50, 100, 300]\n",
    "}\n",
    "\n",
    "# Parameters for LogisitcRegression\n",
    "logi_regr_params = {\n",
    "    'penalty': ['l1', 'l2'],\n",
    "    'C': [1e-2, 1e-1, 1, 10, 1e3, 1e5]\n",
    "}\n",
    "\n",
    "# Parameters for RandomForest\n",
    "random_forest_params = {\n",
    "  'max_depth': [3, 5, 7, 9],\n",
    "  'n_estimators': [30, 50, 100, 300]\n",
    "}\n",
    "\n",
    "# Parameters for AdaBoost\n",
    "adaboost_params = {\n",
    "  'n_estimators': [30, 50, 100, 300]\n",
    "}\n",
    "\n",
    "knn_params = {\n",
    "    'n_neighbors': [3, 5, 7],\n",
    "    'algorithm': ['ball_tree', 'kd_tree']\n",
    "}\n",
    "\n",
    "mlp_params = {\n",
    "    'hidden_layer_sizes': [16, 32, 64]\n",
    "}\n",
    "\n",
    "\n",
    "# Parameters for GaussianNB\n",
    "percent_positive = annual_df['label'].mean() # Percentage of positive labels\n",
    "percent_negative = 1 - percent_positive # Percentage of negative features \n",
    "bayes_params = {'priors': [None, [percent_negative, percent_positive]]}\n",
    "\n",
    "\n",
    "# Create a dictionary of models with names as keys\n",
    "# model{ 'model name': (model_object, parameters) } \n",
    "models = {\n",
    "    'XGBoost': (XGBClassifier(), xgb_params), \n",
    "    'Logistic Reg': (LogisticRegression(), logi_regr_params),\n",
    "    'Random Forest': (RandomForestClassifier(), random_forest_params),\n",
    "    'AdaBoost': (AdaBoostClassifier(), adaboost_params),\n",
    "    'KNN' : (KNeighborsClassifier(), knn_params),\n",
    "    'NeuralNet' : (MLPClassifier(), mlp_params),\n",
    "    'Gaussian NB': (GaussianNB(), bayes_params)\n",
    "}"
   ]
  },
  {
   "cell_type": "code",
   "execution_count": 204,
   "metadata": {},
   "outputs": [],
   "source": [
    "test_year = 2017\n",
    "(training_history, testing_history, \n",
    "testing_history_probs, trained_models) = train_models(annual_df, models, test_year, extra_columns)"
   ]
  },
  {
   "cell_type": "code",
   "execution_count": 205,
   "metadata": {
    "collapsed": true
   },
   "outputs": [],
   "source": [
    "all_preds = []\n",
    "for v in testing_history.values():\n",
    "    all_preds.append(v)\n",
    "    \n",
    "all_preds = np.array(all_preds).T\n",
    "vote_by_preds = [int(x > 0.5) for x in all_preds.mean(axis=1)]\n",
    "\n",
    "testing_history['vote_by_preds'] = vote_by_preds"
   ]
  },
  {
   "cell_type": "code",
   "execution_count": 206,
   "metadata": {},
   "outputs": [
    {
     "name": "stdout",
     "output_type": "stream",
     "text": [
      "XGBoost: 0.8780487804878049 \n",
      "Recall: 0.42857142857142855**\n",
      "Precision: 0.75\n",
      "[[33  1]\n",
      " [ 4  3]]\n",
      "----------\n",
      "Logistic Reg: 0.8048780487804879 \n",
      "Recall: 0.0**\n",
      "Precision: 0.0\n",
      "[[33  1]\n",
      " [ 7  0]]\n",
      "----------\n",
      "Random Forest: 0.8292682926829268 \n",
      "Recall: 0.0**\n",
      "Precision: nan\n",
      "[[34  0]\n",
      " [ 7  0]]\n",
      "----------\n",
      "AdaBoost: 0.7560975609756098 \n",
      "Recall: 0.5714285714285714**\n",
      "Precision: 0.36363636363636365\n",
      "[[27  7]\n",
      " [ 3  4]]\n",
      "----------\n",
      "KNN: 0.8048780487804879 \n",
      "Recall: 0.0**\n",
      "Precision: 0.0\n",
      "[[33  1]\n",
      " [ 7  0]]\n",
      "----------\n",
      "NeuralNet: 0.8292682926829268 \n",
      "Recall: 0.0**\n",
      "Precision: nan\n",
      "[[34  0]\n",
      " [ 7  0]]\n",
      "----------\n",
      "Gaussian NB: 0.3902439024390244 \n",
      "Recall: 0.42857142857142855**\n",
      "Precision: 0.125\n",
      "[[13 21]\n",
      " [ 4  3]]\n",
      "----------\n",
      "meta: 0.8048780487804879 \n",
      "Recall: 0.42857142857142855**\n",
      "Precision: 0.42857142857142855\n",
      "[[30  4]\n",
      " [ 4  3]]\n",
      "----------\n",
      "vote_by_preds: 0.8292682926829268 \n",
      "Recall: 0.0**\n",
      "Precision: nan\n",
      "[[34  0]\n",
      " [ 7  0]]\n",
      "----------\n"
     ]
    },
    {
     "name": "stderr",
     "output_type": "stream",
     "text": [
      "/home/jshuai/anaconda3/lib/python3.6/site-packages/ipykernel_launcher.py:15: RuntimeWarning: invalid value encountered in long_scalars\n",
      "  from ipykernel import kernelapp as app\n"
     ]
    }
   ],
   "source": [
    "date_filter = (annual_df['next_year'] >= 2017)\n",
    "truth = annual_df.loc[date_filter, 'label']\n",
    "\n",
    "testing_results_df = pd.DataFrame(annual_df.loc[date_filter, ['label', 'next_date']])\n",
    "for name, preds in testing_history.items():\n",
    "    \n",
    "    # Add predictions to feature_df\n",
    "    testing_results_df[name] = preds == truth\n",
    "    \n",
    "    # Get accuracy score and confusion matrix\n",
    "    print(\"{}: {} \".format(name, accuracy_score(truth, preds)))\n",
    "    cm = confusion_matrix(truth, preds)\n",
    "    tn, fp, fn, tp = cm[0][0], cm[0][1], cm[1][0], cm[1][1]\n",
    "    recall = tp / (tp + fn)\n",
    "    precision = tp / (tp + fp)\n",
    "    print(\"Recall: {}**\".format(recall))\n",
    "    print(\"Precision: {}\".format(precision))\n",
    "    print(cm)\n",
    "    print('-'*10)"
   ]
  },
  {
   "cell_type": "markdown",
   "metadata": {},
   "source": [
    "## XGBoost was the best model, and gave us an 87.8% accuracy and 42.9% recall. "
   ]
  },
  {
   "cell_type": "markdown",
   "metadata": {},
   "source": [
    "## Tweaking the probability threshold"
   ]
  },
  {
   "cell_type": "code",
   "execution_count": 207,
   "metadata": {},
   "outputs": [
    {
     "name": "stdout",
     "output_type": "stream",
     "text": [
      "vote_by_preds: 0.8048780487804879 \n",
      "Recall: 0.8571428571428571**\n",
      "Precision: 0.46153846153846156\n",
      "[[27  7]\n",
      " [ 1  6]]\n",
      "----------\n"
     ]
    }
   ],
   "source": [
    "# Let's see what happens when we tweak the probability threshold for xgboost\n",
    "probs = testing_history_probs['XGBoost']\n",
    "# Make predictions based off 70% probability threshold\n",
    "preds = [1 if p < 0.70 else 0 for p in probs]\n",
    "change = annual_df.loc[date_filter, 'next_gun_deaths_change']\n",
    "\n",
    "print(\"{}: {} \".format(name, accuracy_score(truth, preds)))\n",
    "cm = confusion_matrix(truth, preds)\n",
    "tn, fp, fn, tp = cm[0][0], cm[0][1], cm[1][0], cm[1][1]\n",
    "recall = tp / (tp + fn)\n",
    "precision = tp / (tp + fp)\n",
    "print(\"Recall: {}**\".format(recall))\n",
    "print(\"Precision: {}\".format(precision))\n",
    "print(cm)\n",
    "print('-'*10)\n",
    "\n",
    "# Create a DataFrame for analysis later\n",
    "xgboost_analysis_df = pd.DataFrame({'state': states, 'truth': truth, \n",
    "                               'preds': preds, 'probs': probs, 'change': change})"
   ]
  },
  {
   "cell_type": "markdown",
   "metadata": {},
   "source": [
    "## We can compromise accuracy for a much better recall by using a more conservative probability threshold, we get 80.5% accuracy and 85.7% recall."
   ]
  },
  {
   "cell_type": "markdown",
   "metadata": {},
   "source": [
    "## CAP and ROC curves for closer analysis of the model"
   ]
  },
  {
   "cell_type": "code",
   "execution_count": 208,
   "metadata": {},
   "outputs": [],
   "source": [
    "# Define function to get and plot CAP curve\n",
    "def get_cap(model_name, year='2016', mark_thresh=0.5):\n",
    "    # Get the probabilities from the testing history\n",
    "    probs = testing_history_probs[model_name]\n",
    "\n",
    "    # Create a DataFrame to keep track of the CAP, and split by month\n",
    "    cap_df = pd.DataFrame(truth)\n",
    "    cap_df['probs'] = probs\n",
    "\n",
    "    # Calculate CAP\n",
    "    cap_df = cap_df.sort_values('probs')\n",
    "    cap_df['cap'] = cap_df['label'].cumsum() / cap_df['label'].sum()\n",
    "    \n",
    "    # Find point to mark\n",
    "    mark_point = int(cap_df.shape[0] * mark_thresh)\n",
    "\n",
    "    # Plot\n",
    "    x_pos = np.linspace(0, 1, cap_df.shape[0])\n",
    "    plt.plot(x_pos, cap_df['cap'], ls='-')\n",
    "\n",
    "    # Show mark point and label with the lift\n",
    "    cap_mark = cap_df.iloc[mark_point]['cap']\n",
    "    plt.annotate(\"{:.1f}%: {:.2f}\".format(mark_thresh * 100, cap_mark), \n",
    "                 xy=(mark_thresh + 0.05, 0.1))\n",
    "    plt.plot([mark_thresh, mark_thresh], [0,1], ls='--')\n",
    "    \n",
    "    # Show plots\n",
    "    plt.title('{} Cumulative Accuracy Profile for {} Predictions\\n'\n",
    "                 .format(model_name, year), fontsize=18)\n",
    "    plt.show()"
   ]
  },
  {
   "cell_type": "code",
   "execution_count": 209,
   "metadata": {
    "collapsed": true
   },
   "outputs": [],
   "source": [
    "# Define a function to get and plot the ROC curve\n",
    "def get_roc_curve(model_name, year='2016'):\n",
    "    # Note we access testing_history_probs and truth from outside the DataFrame\n",
    "    # Get the probabilities from the testing history\n",
    "    probs = testing_history_probs[model_name]\n",
    "\n",
    "    # Create a DataFrame to keep track of the ROC, and split by month\n",
    "    roc_df = pd.DataFrame(truth)\n",
    "    roc_df['probs'] = probs\n",
    "\n",
    "    \n",
    "    ground_truth = roc_df['label']\n",
    "    probs = roc_df['probs']\n",
    "\n",
    "    # Brute force way to get roc thresholds \n",
    "    fp_rate = []\n",
    "    tp_rate = []\n",
    "    for threshold in np.arange(0.0, 1.05, 0.01):\n",
    "        preds = [1 if p < threshold else 0 for p in probs]\n",
    "        conf_matr = confusion_matrix(ground_truth, preds)\n",
    "        tp, tn, fp, fn = conf_matr[1][1], conf_matr[0][0], conf_matr[0][1], conf_matr[1][0]\n",
    "        fp_rate.append(fp / (tn + fp)) \n",
    "        tp_rate.append(tp / (tp + fn))\n",
    "\n",
    "    plt.plot(fp_rate, tp_rate)\n",
    "    plt.plot([0, 1], [0, 1], color='r', ls='--')\n",
    "\n",
    "    plt.xlabel(\"False Positive Rate\")\n",
    "    plt.ylabel(\"True Positive Rate\")\n",
    "       \n",
    "    # Show plots\n",
    "    plt.title('{} ROC Curve for {} Predictions\\n'\n",
    "                 .format(model_name, year), fontsize=18)\n",
    "    plt.show()"
   ]
  },
  {
   "cell_type": "code",
   "execution_count": 210,
   "metadata": {},
   "outputs": [
    {
     "data": {
      "image/png": "[encoded data removed]",
      "text/plain": [
       "<matplotlib.figure.Figure at 0x7f7f62e696a0>"
      ]
     },
     "metadata": {},
     "output_type": "display_data"
    }
   ],
   "source": [
    "get_cap('XGBoost', '2017', 0.33)"
   ]
  },
  {
   "cell_type": "markdown",
   "metadata": {},
   "source": [
    "## From the cumulative accuracy profile curve, we can see that all of the states that will see an increase in gun violence for 2017 were within the top 14 states XGBoost classified as most likely. "
   ]
  },
  {
   "cell_type": "code",
   "execution_count": 224,
   "metadata": {},
   "outputs": [
    {
     "data": {
      "image/png": "[encoded data removed]",
      "text/plain": [
       "<matplotlib.figure.Figure at 0x7f7f6b1ca940>"
      ]
     },
     "metadata": {},
     "output_type": "display_data"
    }
   ],
   "source": [
    "get_roc_curve('XGBoost', '2017')"
   ]
  },
  {
   "cell_type": "code",
   "execution_count": 226,
   "metadata": {},
   "outputs": [],
   "source": [
    "features = list(annual_df.drop(extra_columns, axis=1).dropna(axis=1).columns)\n",
    "\n",
    "importances_df = pd.DataFrame()\n",
    "importances_df['feature'] = features\n",
    "importances = trained_models['XGBoost'].best_estimator_.feature_importances_\n",
    "importances_df['xgboost importance'] = importances"
   ]
  },
  {
   "cell_type": "code",
   "execution_count": 227,
   "metadata": {},
   "outputs": [
    {
     "data": {
      "text/html": [
       "<div>\n",
       "<style>\n",
       "    .dataframe thead tr:only-child th {\n",
       "        text-align: right;\n",
       "    }\n",
       "\n",
       "    .dataframe thead th {\n",
       "        text-align: left;\n",
       "    }\n",
       "\n",
       "    .dataframe tbody tr th {\n",
       "        vertical-align: top;\n",
       "    }\n",
       "</style>\n",
       "<table border=\"1\" class=\"dataframe\">\n",
       "  <thead>\n",
       "    <tr style=\"text-align: right;\">\n",
       "      <th></th>\n",
       "      <th>feature</th>\n",
       "      <th>xgboost importance</th>\n",
       "    </tr>\n",
       "  </thead>\n",
       "  <tbody>\n",
       "    <tr>\n",
       "      <th>2</th>\n",
       "      <td>gun_deaths</td>\n",
       "      <td>0.290625</td>\n",
       "    </tr>\n",
       "    <tr>\n",
       "      <th>6</th>\n",
       "      <td>gun_deaths_change</td>\n",
       "      <td>0.221875</td>\n",
       "    </tr>\n",
       "    <tr>\n",
       "      <th>3</th>\n",
       "      <td>this_year</td>\n",
       "      <td>0.209375</td>\n",
       "    </tr>\n",
       "    <tr>\n",
       "      <th>42</th>\n",
       "      <td>lawtotal</td>\n",
       "      <td>0.087500</td>\n",
       "    </tr>\n",
       "    <tr>\n",
       "      <th>87</th>\n",
       "      <td>state_Florida</td>\n",
       "      <td>0.043750</td>\n",
       "    </tr>\n",
       "    <tr>\n",
       "      <th>1</th>\n",
       "      <td>republican</td>\n",
       "      <td>0.043750</td>\n",
       "    </tr>\n",
       "    <tr>\n",
       "      <th>10</th>\n",
       "      <td>universalpermith</td>\n",
       "      <td>0.025000</td>\n",
       "    </tr>\n",
       "    <tr>\n",
       "      <th>0</th>\n",
       "      <td>democrat</td>\n",
       "      <td>0.015625</td>\n",
       "    </tr>\n",
       "    <tr>\n",
       "      <th>71</th>\n",
       "      <td>statechecks_statechecksh_old</td>\n",
       "      <td>0.015625</td>\n",
       "    </tr>\n",
       "    <tr>\n",
       "      <th>78</th>\n",
       "      <td>lawtotal_old</td>\n",
       "      <td>0.015625</td>\n",
       "    </tr>\n",
       "    <tr>\n",
       "      <th>44</th>\n",
       "      <td>immunity_old</td>\n",
       "      <td>0.009375</td>\n",
       "    </tr>\n",
       "    <tr>\n",
       "      <th>54</th>\n",
       "      <td>capuses_old</td>\n",
       "      <td>0.006250</td>\n",
       "    </tr>\n",
       "    <tr>\n",
       "      <th>11</th>\n",
       "      <td>violentpartial</td>\n",
       "      <td>0.003125</td>\n",
       "    </tr>\n",
       "    <tr>\n",
       "      <th>93</th>\n",
       "      <td>state_Kansas</td>\n",
       "      <td>0.003125</td>\n",
       "    </tr>\n",
       "    <tr>\n",
       "      <th>16</th>\n",
       "      <td>cap16</td>\n",
       "      <td>0.003125</td>\n",
       "    </tr>\n",
       "  </tbody>\n",
       "</table>\n",
       "</div>"
      ],
      "text/plain": [
       "                         feature  xgboost importance\n",
       "2                     gun_deaths            0.290625\n",
       "6              gun_deaths_change            0.221875\n",
       "3                      this_year            0.209375\n",
       "42                      lawtotal            0.087500\n",
       "87                 state_Florida            0.043750\n",
       "1                     republican            0.043750\n",
       "10              universalpermith            0.025000\n",
       "0                       democrat            0.015625\n",
       "71  statechecks_statechecksh_old            0.015625\n",
       "78                  lawtotal_old            0.015625\n",
       "44                  immunity_old            0.009375\n",
       "54                   capuses_old            0.006250\n",
       "11                violentpartial            0.003125\n",
       "93                  state_Kansas            0.003125\n",
       "16                         cap16            0.003125"
      ]
     },
     "execution_count": 227,
     "metadata": {},
     "output_type": "execute_result"
    }
   ],
   "source": [
    "importances_df.sort_values('xgboost importance', ascending=False).head(15)"
   ]
  },
  {
   "cell_type": "code",
   "execution_count": null,
   "metadata": {
    "collapsed": true
   },
   "outputs": [],
   "source": [
    "## We can see that the top provisions XGBoost used were ones regarding permits on handguns, "
   ]
  },
  {
   "cell_type": "markdown",
   "metadata": {},
   "source": [
    "## Once again, the limited availability of our features seemed to limit our model's performance. Many of the features that we saw had correlation with gun violence during the visualization stages were unusable because they would limit the training data too much.\n",
    "\n",
    "## I think it would be a worthy investment to continue to keep track of data such as alcohol abuse, mental health, weapons registered, etc. as we may be able to gather enough data to use them in our modeling."
   ]
  }
 ],
 "metadata": {
  "kernelspec": {
   "display_name": "Python 3",
   "language": "python",
   "name": "python3"
  },
  "language_info": {
   "codemirror_mode": {
    "name": "ipython",
    "version": 3
   },
   "file_extension": ".py",
   "mimetype": "text/x-python",
   "name": "python",
   "nbconvert_exporter": "python",
   "pygments_lexer": "ipython3",
   "version": "3.6.2"
  }
 },
 "nbformat": 4,
 "nbformat_minor": 2
}

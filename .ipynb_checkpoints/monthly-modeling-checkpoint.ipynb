{
 "cells": [
  {
   "cell_type": "code",
   "execution_count": 1,
   "metadata": {
    "collapsed": true
   },
   "outputs": [],
   "source": [
    "# Import defaultdict\n",
    "from collections import defaultdict\n",
    "\n",
    "# Numpy and pandas for manipulating the data\n",
    "import numpy as np\n",
    "import pandas as pd\n",
    "\n",
    "# Matplotlib and seaborn for visualization\n",
    "import matplotlib as mpl\n",
    "from matplotlib import pyplot as plt\n",
    "import seaborn as sns\n",
    "\n",
    "# GridSearchCV for training \n",
    "from sklearn.model_selection import GridSearchCV\n",
    "\n",
    "# Performance metrics from sklearn\n",
    "from sklearn.metrics import mean_squared_error\n",
    "from sklearn.metrics import accuracy_score\n",
    "from sklearn.metrics import confusion_matrix\n",
    "\n",
    "# Prophet for time forecasting\n",
    "from fbprophet import Prophet\n",
    "\n",
    "# Classification models\n",
    "from xgboost import XGBClassifier\n",
    "from sklearn.linear_model import LogisticRegression\n",
    "from sklearn.ensemble import RandomForestClassifier, AdaBoostClassifier\n",
    "from sklearn.naive_bayes import GaussianNB\n",
    "\n",
    "# To hide stdout because Prophet can be loud\n",
    "import logging\n",
    "logging.getLogger('fbprophet').setLevel(logging.WARNING)"
   ]
  },
  {
   "cell_type": "code",
   "execution_count": 2,
   "metadata": {
    "collapsed": true
   },
   "outputs": [],
   "source": [
    "feature_file = './data/cleaned/feature.csv'\n",
    "by_date_total_file = './data/cleaned/by_date_total.csv'\n",
    "provisions_file = './data/raw/provisions.csv'\n",
    "useful_provisions_file = './data/cleaned/useful_provisions.csv'\n",
    "\n",
    "feature_df = pd.read_csv(feature_file, parse_dates=True, index_col=0)\n",
    "by_date_total_df = pd.read_csv(by_date_total_file, parse_dates=True, index_col=0)\n",
    "provisions_df = pd.read_csv(provisions_file, parse_dates=True)\n",
    "useful_provisions_df = pd.read_csv(useful_provisions_file, parse_dates=True, index_col=0)"
   ]
  },
  {
   "cell_type": "markdown",
   "metadata": {},
   "source": [
    "## Fixing features\n",
    "There are still a couple of features to be tweaked. Although the data was cleaned in `clean-data` journal, it is more convenient to add the provisions features here, as they are likely to be changed along with changes to the model."
   ]
  },
  {
   "cell_type": "code",
   "execution_count": 3,
   "metadata": {
    "collapsed": true
   },
   "outputs": [],
   "source": [
    "# Add only the useful provisions to our feature_df (k from this year and k from n years prior)\n",
    "def add_provisions(feature_df, provisions_df, useful_provisions_df, k=30, n=5):\n",
    "    # Get the state and year columns for a join later and lawtotal to account for excluded provisions\n",
    "    columns = list(useful_provisions_df.head(k)['provision'].values)\n",
    "#     columns = list(useful_provisions_df.sort_values('diff').tail(k)['provision'].values)\n",
    "    columns.extend(['year', 'state', 'lawtotal'])     \n",
    "    \n",
    "    # Get the years \n",
    "    years = feature_df.groupby('this_year').count().index.values\n",
    "\n",
    "    # Keep track of provisions for this year and n years prior\n",
    "    current_provisions = []\n",
    "    old_provisions = []\n",
    "\n",
    "    # Add the provisions from each year to a list\n",
    "    for year in years:\n",
    "        current_provisions.append(provisions_df[provisions_df['year'] == year][columns])\n",
    "        old_provisions.append(provisions_df[provisions_df['year'] == year - n][columns])\n",
    "\n",
    "    # Put the provisions into a DataFrame\n",
    "    current_provisions = pd.concat(current_provisions)\n",
    "    old_provisions = pd.concat(old_provisions)\n",
    "    old_provisions['year'] += n # Match the year which we want to join onto\n",
    "\n",
    "    # Merge the provisions\n",
    "    all_provisions = pd.merge(current_provisions, old_provisions, on=['state', 'year'], suffixes=('', '_old'))\n",
    "\n",
    "    # Add provisions to feature_df and return the new feature_df\n",
    "    feature_df = pd.merge(feature_df, all_provisions, left_on=['this_year', 'state'], right_on=['year', 'state'])\n",
    "    return feature_df.drop('year', axis=1)"
   ]
  },
  {
   "cell_type": "code",
   "execution_count": 4,
   "metadata": {},
   "outputs": [],
   "source": [
    "# Include provision information\n",
    "feature_df = add_provisions(feature_df, provisions_df, useful_provisions_df, k=10, n=5)\n",
    "\n",
    "# Exclude states that have a very low average number of deaths. In this case, we choose 2 as our threshold\n",
    "min_deaths = 2\n",
    "average_deaths = feature_df.groupby('state')['next_deaths'].mean()\n",
    "excluded = average_deaths[average_deaths < min_deaths].index\n",
    "states = average_deaths[average_deaths >= min_deaths].index\n",
    "\n",
    "# Filter out the states\n",
    "feature_df = feature_df[~feature_df['state'].isin(excluded)]\n",
    "\n",
    "# Add the label. The label will be whether gun violence will increase by more than 20% for a given month\n",
    "feature_df['label'] = (feature_df['rate_change'] > 0.2).astype(int)\n",
    "\n",
    "# Sort the data chronologically by date, then alphabetically by state name  \n",
    "feature_df = feature_df.sort_values(['next_date', 'state']).reset_index().drop('index', axis=1)\n",
    "\n",
    "# Drop columns regarding year \n",
    "# feature_df = feature_df.drop(['next_year', 'this_year'], axis=1)\n",
    "\n",
    "# By dropping null values, we lose the first month because there is no previous date for the first month\n",
    "feature_df = feature_df.dropna()\n",
    "\n",
    "# Make placeholders for two additional features: one for predictions of this month, and one for next month\n",
    "feature_df['this_preds'] = 0\n",
    "feature_df['next_preds'] = 0\n",
    "\n",
    "# Finally, make a weekly DataFrame for the time series predictions\n",
    "resampled_df = by_date_total_df.resample('W').sum()"
   ]
  },
  {
   "cell_type": "markdown",
   "metadata": {},
   "source": [
    "***\n",
    "## Modeling\n",
    "Now that all the `feature_df` is ready with all of the features and information, it's time to model the data. Here is an image of the pipeline:"
   ]
  },
  {
   "cell_type": "markdown",
   "metadata": {},
   "source": [
    "We define some functions to modularize parts of the pipeline."
   ]
  },
  {
   "cell_type": "code",
   "execution_count": 9,
   "metadata": {
    "collapsed": true
   },
   "outputs": [],
   "source": [
    "# First, define need a function to easily get time series predictions\n",
    "def get_trend_predictions(resampled_df, date, state, n_periods=14):\n",
    "    time_series = resampled_df[:date][state]\n",
    "    time_series = time_series.reset_index()\n",
    "    time_series.columns = ['ds', 'y']\n",
    "\n",
    "    # Model the data and make predictions\n",
    "    model = Prophet(yearly_seasonality=True)\n",
    "    model = model.fit(time_series)\n",
    "    future = model.make_future_dataframe(periods=n_periods)\n",
    "    output = model.predict(future)[['ds', 'yhat']]\n",
    "\n",
    "    # Resample monthly and add the state as a column\n",
    "    output = output.set_index('ds').resample('M').sum()\n",
    "\n",
    "    # Get predictions for this month and next month\n",
    "    this_output = output[:date].reset_index()\n",
    "    this_output.columns = ['this_date', 'this_preds']\n",
    "    next_output = output.reset_index().shift(-1).dropna()\n",
    "    next_output.columns = ['next_date', 'next_preds']\n",
    "\n",
    "    return this_output, next_output\n",
    "\n",
    "# Update trend predictions up to the current observation's state\n",
    "def update_trends(feature_df, resampled_df, date, states): \n",
    "    for state in states:\n",
    "        # Update trend predictions for this state\n",
    "        this_trend_preds, next_trend_preds = get_trend_predictions(resampled_df, this_date, state)\n",
    "        to_update = (feature_df['state'] == state) & (feature_df['this_date'] <= this_date)\n",
    "        feature_df.loc[to_update, 'this_preds'] = this_trend_preds['this_preds'].values\n",
    "        feature_df.loc[to_update, 'next_preds'] = next_trend_preds['next_preds'].values\n",
    "        \n",
    "#     # Update all trend predictions\n",
    "#     this_preds = feature_df['this_preds']\n",
    "#     this_change = ((this_preds - this_preds.shift()) / this_preds) > 0.3\n",
    "#     next_preds = feature_df['next_preds'] \n",
    "#     next_change = ((next_preds - next_preds.shift()) / next_preds) > 0.3\n",
    "\n",
    "    return feature_df.dropna()"
   ]
  },
  {
   "cell_type": "markdown",
   "metadata": {},
   "source": [
    "## Testing Models\n",
    "Here are the models we will be testing:\n",
    "```\n",
    "    XGBoost                        From XGBoost\n",
    "    Logistic Regression            From sklearn\n",
    "    Random Forest\n",
    "    AdaBoost\n",
    "    Naive Bayes\n",
    "```"
   ]
  },
  {
   "cell_type": "code",
   "execution_count": 6,
   "metadata": {
    "collapsed": true
   },
   "outputs": [],
   "source": [
    "# These are columns unnecessary classification models:\n",
    "# Drop them when feeding features to the models\n",
    "extra_columns = ['this_date', 'next_date', 'rate_change', \n",
    "                 'next_deaths', 'state', 'label']\n",
    "\n",
    "dates = feature_df['next_date'].unique()\n",
    "\n",
    "# Make a list w/ pairs of models and parameters to look through when doing GridSearchCV\n",
    "\n",
    "# Parameters for XGBClassifier\n",
    "xgb_params = {\n",
    "  'max_depth': [3, 5, 7, 9], \n",
    "  'n_estimators': [30, 50, 100, 300]\n",
    "}\n",
    "\n",
    "# Parameters for LogisitcRegression\n",
    "logi_regr_params = {\n",
    "    'penalty': ['l1', 'l2'],\n",
    "    'C': [1e-2, 1e-1, 1, 10, 1e3, 1e5]\n",
    "}\n",
    "\n",
    "# Parameters for RandomForest\n",
    "random_forest_params = {\n",
    "  'max_depth': [3, 5, 7, 9],\n",
    "  'n_estimators': [30, 50, 100, 300]\n",
    "}\n",
    "\n",
    "# Parameters for AdaBoost\n",
    "adaboost_params = {\n",
    "  'n_estimators': [30, 50, 100, 300]\n",
    "}\n",
    "\n",
    "# Parameters for GaussianNB\n",
    "percent_positive = feature_df['label'].mean() # Percentage of positive labels\n",
    "percent_negative = 1 - percent_positive # Percentage of negative features \n",
    "bayes_params = {'priors': [None, [percent_negative, percent_positive]]}\n",
    "\n",
    "\n",
    "# Create a dictionary of models with names as keys\n",
    "# model{ 'model name': (model_object, parameters) } \n",
    "models = {\n",
    "    'XGBoost': (XGBClassifier(), xgb_params), \n",
    "    'Logistic Reg': (LogisticRegression(), logi_regr_params),\n",
    "    'Random Forest': (RandomForestClassifier(), random_forest_params),\n",
    "    'AdaBoost': (AdaBoostClassifier(), adaboost_params),\n",
    "    'Gaussian NB': (GaussianNB(), bayes_params)   \n",
    "}"
   ]
  },
  {
   "cell_type": "markdown",
   "metadata": {},
   "source": [
    "Train each model on 2014 and 2015, then make predictions on every month for 2016"
   ]
  },
  {
   "cell_type": "code",
   "execution_count": 10,
   "metadata": {},
   "outputs": [
    {
     "name": "stdout",
     "output_type": "stream",
     "text": [
      "Updating trends for with this_date 2016-12-31...\n"
     ]
    },
    {
     "ename": "ValueError",
     "evalue": "Must have equal len keys and value when setting with an iterable",
     "output_type": "error",
     "traceback": [
      "\u001b[0;31m---------------------------------------------------------------------------\u001b[0m",
      "\u001b[0;31mValueError\u001b[0m                                Traceback (most recent call last)",
      "\u001b[0;32m<ipython-input-10-d389182a5990>\u001b[0m in \u001b[0;36m<module>\u001b[0;34m()\u001b[0m\n\u001b[1;32m     13\u001b[0m \u001b[0;34m\u001b[0m\u001b[0m\n\u001b[1;32m     14\u001b[0m     \u001b[0mprint\u001b[0m\u001b[0;34m(\u001b[0m\u001b[0;34m\"Updating trends for with this_date {}...\"\u001b[0m\u001b[0;34m.\u001b[0m\u001b[0mformat\u001b[0m\u001b[0;34m(\u001b[0m\u001b[0mthis_date\u001b[0m\u001b[0;34m)\u001b[0m\u001b[0;34m)\u001b[0m\u001b[0;34m\u001b[0m\u001b[0m\n\u001b[0;32m---> 15\u001b[0;31m     \u001b[0mfeature_df\u001b[0m \u001b[0;34m=\u001b[0m \u001b[0mupdate_trends\u001b[0m\u001b[0;34m(\u001b[0m\u001b[0mfeature_df\u001b[0m\u001b[0;34m,\u001b[0m \u001b[0mresampled_df\u001b[0m\u001b[0;34m,\u001b[0m \u001b[0mthis_date\u001b[0m\u001b[0;34m,\u001b[0m \u001b[0mstates\u001b[0m\u001b[0;34m)\u001b[0m\u001b[0;34m\u001b[0m\u001b[0m\n\u001b[0m\u001b[1;32m     16\u001b[0m \u001b[0;34m\u001b[0m\u001b[0m\n\u001b[1;32m     17\u001b[0m \u001b[0;34m\u001b[0m\u001b[0m\n",
      "\u001b[0;32m<ipython-input-9-f4922b6fcb6c>\u001b[0m in \u001b[0;36mupdate_trends\u001b[0;34m(feature_df, resampled_df, date, states)\u001b[0m\n\u001b[1;32m     28\u001b[0m         \u001b[0mthis_trend_preds\u001b[0m\u001b[0;34m,\u001b[0m \u001b[0mnext_trend_preds\u001b[0m \u001b[0;34m=\u001b[0m \u001b[0mget_trend_predictions\u001b[0m\u001b[0;34m(\u001b[0m\u001b[0mresampled_df\u001b[0m\u001b[0;34m,\u001b[0m \u001b[0mthis_date\u001b[0m\u001b[0;34m,\u001b[0m \u001b[0mstate\u001b[0m\u001b[0;34m)\u001b[0m\u001b[0;34m\u001b[0m\u001b[0m\n\u001b[1;32m     29\u001b[0m         \u001b[0mto_update\u001b[0m \u001b[0;34m=\u001b[0m \u001b[0;34m(\u001b[0m\u001b[0mfeature_df\u001b[0m\u001b[0;34m[\u001b[0m\u001b[0;34m'state'\u001b[0m\u001b[0;34m]\u001b[0m \u001b[0;34m==\u001b[0m \u001b[0mstate\u001b[0m\u001b[0;34m)\u001b[0m \u001b[0;34m&\u001b[0m \u001b[0;34m(\u001b[0m\u001b[0mfeature_df\u001b[0m\u001b[0;34m[\u001b[0m\u001b[0;34m'this_date'\u001b[0m\u001b[0;34m]\u001b[0m \u001b[0;34m<=\u001b[0m \u001b[0mthis_date\u001b[0m\u001b[0;34m)\u001b[0m\u001b[0;34m\u001b[0m\u001b[0m\n\u001b[0;32m---> 30\u001b[0;31m         \u001b[0mfeature_df\u001b[0m\u001b[0;34m.\u001b[0m\u001b[0mloc\u001b[0m\u001b[0;34m[\u001b[0m\u001b[0mto_update\u001b[0m\u001b[0;34m,\u001b[0m \u001b[0;34m'this_preds'\u001b[0m\u001b[0;34m]\u001b[0m \u001b[0;34m=\u001b[0m \u001b[0mthis_trend_preds\u001b[0m\u001b[0;34m[\u001b[0m\u001b[0;34m'this_preds'\u001b[0m\u001b[0;34m]\u001b[0m\u001b[0;34m.\u001b[0m\u001b[0mvalues\u001b[0m\u001b[0;34m\u001b[0m\u001b[0m\n\u001b[0m\u001b[1;32m     31\u001b[0m         \u001b[0mfeature_df\u001b[0m\u001b[0;34m.\u001b[0m\u001b[0mloc\u001b[0m\u001b[0;34m[\u001b[0m\u001b[0mto_update\u001b[0m\u001b[0;34m,\u001b[0m \u001b[0;34m'next_preds'\u001b[0m\u001b[0;34m]\u001b[0m \u001b[0;34m=\u001b[0m \u001b[0mnext_trend_preds\u001b[0m\u001b[0;34m[\u001b[0m\u001b[0;34m'next_preds'\u001b[0m\u001b[0;34m]\u001b[0m\u001b[0;34m.\u001b[0m\u001b[0mvalues\u001b[0m\u001b[0;34m\u001b[0m\u001b[0m\n\u001b[1;32m     32\u001b[0m \u001b[0;34m\u001b[0m\u001b[0m\n",
      "\u001b[0;32m~/anaconda3/lib/python3.6/site-packages/pandas/core/indexing.py\u001b[0m in \u001b[0;36m__setitem__\u001b[0;34m(self, key, value)\u001b[0m\n\u001b[1;32m    177\u001b[0m             \u001b[0mkey\u001b[0m \u001b[0;34m=\u001b[0m \u001b[0mcom\u001b[0m\u001b[0;34m.\u001b[0m\u001b[0m_apply_if_callable\u001b[0m\u001b[0;34m(\u001b[0m\u001b[0mkey\u001b[0m\u001b[0;34m,\u001b[0m \u001b[0mself\u001b[0m\u001b[0;34m.\u001b[0m\u001b[0mobj\u001b[0m\u001b[0;34m)\u001b[0m\u001b[0;34m\u001b[0m\u001b[0m\n\u001b[1;32m    178\u001b[0m         \u001b[0mindexer\u001b[0m \u001b[0;34m=\u001b[0m \u001b[0mself\u001b[0m\u001b[0;34m.\u001b[0m\u001b[0m_get_setitem_indexer\u001b[0m\u001b[0;34m(\u001b[0m\u001b[0mkey\u001b[0m\u001b[0;34m)\u001b[0m\u001b[0;34m\u001b[0m\u001b[0m\n\u001b[0;32m--> 179\u001b[0;31m         \u001b[0mself\u001b[0m\u001b[0;34m.\u001b[0m\u001b[0m_setitem_with_indexer\u001b[0m\u001b[0;34m(\u001b[0m\u001b[0mindexer\u001b[0m\u001b[0;34m,\u001b[0m \u001b[0mvalue\u001b[0m\u001b[0;34m)\u001b[0m\u001b[0;34m\u001b[0m\u001b[0m\n\u001b[0m\u001b[1;32m    180\u001b[0m \u001b[0;34m\u001b[0m\u001b[0m\n\u001b[1;32m    181\u001b[0m     \u001b[0;32mdef\u001b[0m \u001b[0m_has_valid_type\u001b[0m\u001b[0;34m(\u001b[0m\u001b[0mself\u001b[0m\u001b[0;34m,\u001b[0m \u001b[0mk\u001b[0m\u001b[0;34m,\u001b[0m \u001b[0maxis\u001b[0m\u001b[0;34m)\u001b[0m\u001b[0;34m:\u001b[0m\u001b[0;34m\u001b[0m\u001b[0m\n",
      "\u001b[0;32m~/anaconda3/lib/python3.6/site-packages/pandas/core/indexing.py\u001b[0m in \u001b[0;36m_setitem_with_indexer\u001b[0;34m(self, indexer, value)\u001b[0m\n\u001b[1;32m    577\u001b[0m \u001b[0;34m\u001b[0m\u001b[0m\n\u001b[1;32m    578\u001b[0m                     \u001b[0;32mif\u001b[0m \u001b[0mlen\u001b[0m\u001b[0;34m(\u001b[0m\u001b[0mlabels\u001b[0m\u001b[0;34m)\u001b[0m \u001b[0;34m!=\u001b[0m \u001b[0mlen\u001b[0m\u001b[0;34m(\u001b[0m\u001b[0mvalue\u001b[0m\u001b[0;34m)\u001b[0m\u001b[0;34m:\u001b[0m\u001b[0;34m\u001b[0m\u001b[0m\n\u001b[0;32m--> 579\u001b[0;31m                         raise ValueError('Must have equal len keys and value '\n\u001b[0m\u001b[1;32m    580\u001b[0m                                          'when setting with an iterable')\n\u001b[1;32m    581\u001b[0m \u001b[0;34m\u001b[0m\u001b[0m\n",
      "\u001b[0;31mValueError\u001b[0m: Must have equal len keys and value when setting with an iterable"
     ]
    }
   ],
   "source": [
    "# Start at 2016-01-31 and stop (before) 2017-01-31 \n",
    "start = np.where(dates == '2017-01-31')[0][0]\n",
    "# end = np.where(dates == '2018-01-31')[0][0]\n",
    "end = dates.shape[0]\n",
    "\n",
    "training_history = defaultdict(list)\n",
    "testing_history = defaultdict(list)\n",
    "testing_history_probs = defaultdict(list)\n",
    "trained_models = defaultdict(dict)\n",
    "for index in range(start, end):\n",
    "    this_date = dates[index - 1]\n",
    "    next_date = dates[index]\n",
    "    \n",
    "    print(\"Updating trends for with this_date {}...\".format(this_date))\n",
    "    feature_df = update_trends(feature_df, resampled_df, this_date, states) \n",
    "    \n",
    "    \n",
    "    this_preds = feature_df['this_preds'] \n",
    "    this_change = ((this_preds - this_preds.shift()) / this_preds) > 0.3\n",
    "    next_preds = feature_df['next_preds'] \n",
    "    next_change = ((next_preds - next_preds.shift()) / next_preds) > 0.3\n",
    "    ### CUT ####\n",
    "\n",
    "    for state in states:\n",
    "        # Training data is all data before next_date\n",
    "        # Testing data all data during next_date\n",
    "        state_filter = feature_df['state'] == state\n",
    "        train_date_filter = feature_df['next_date'] < next_date\n",
    "        test_date_filter = feature_df['next_date'] == next_date\n",
    "        train_filter = train_date_filter & state_filter\n",
    "        test_filter = test_date_filter & state_filter\n",
    "        \n",
    "        X_train = feature_df.loc[train_filter].drop(extra_columns, axis=1).values\n",
    "        y_train = feature_df.loc[train_filter, 'label']\n",
    "\n",
    "        X_test = feature_df.loc[test_filter].drop(extra_columns, axis=1).values\n",
    "        y_test = feature_df.loc[test_filter, 'label']\n",
    "\n",
    "        meta_train = []\n",
    "        meta_test = []\n",
    "        for name, (model, parameters) in models.items():\n",
    "            print(\"Training {} | next_date: {}... \".format(name, next_date))\n",
    "            clf = GridSearchCV(model, parameters)\n",
    "            clf.fit(X_train, y_train)\n",
    "\n",
    "            # Make predictions on training set\n",
    "            train_preds = clf.predict(X_train)\n",
    "            test_preds = clf.predict(X_test)\n",
    "            train_probs = clf.best_estimator_.predict_proba(X_train)[:, 0]\n",
    "            test_probs = clf.best_estimator_.predict_proba(X_test)[:, 0]\n",
    "\n",
    "            # Make meta features to train the meta model on\n",
    "            meta_train.append(train_probs)\n",
    "            meta_test.append(test_probs)\n",
    "\n",
    "            # Keep track of the predictions\n",
    "            training_history[name].append(train_preds)\n",
    "            testing_history[name].extend(test_preds)\n",
    "            testing_history_probs[name].extend(test_probs)\n",
    "\n",
    "            # Remember the last model\n",
    "            trained_models[name][state] = clf\n",
    "\n",
    "        # Take transpose of meta features so that observations are rows\n",
    "        meta_train = np.array(meta_train).T\n",
    "        meta_test = np.array(meta_test).T\n",
    "\n",
    "        # Create and train the meta model\n",
    "        clf = GridSearchCV(XGBClassifier(), xgb_params)\n",
    "        clf.fit(meta_train, y_train)\n",
    "\n",
    "        # Make training and testing predictions\n",
    "        train_preds = clf.predict(meta_train)\n",
    "        test_preds = clf.predict(meta_test)\n",
    "\n",
    "        # Keep track of the predictions\n",
    "        training_history['meta'].append(train_preds)\n",
    "        testing_history['meta'].extend(test_preds)"
   ]
  },
  {
   "cell_type": "code",
   "execution_count": 11,
   "metadata": {},
   "outputs": [
    {
     "ename": "NameError",
     "evalue": "name 'state' is not defined",
     "output_type": "error",
     "traceback": [
      "\u001b[0;31m---------------------------------------------------------------------------\u001b[0m",
      "\u001b[0;31mNameError\u001b[0m                                 Traceback (most recent call last)",
      "\u001b[0;32m<ipython-input-11-6c2c4fb96e7c>\u001b[0m in \u001b[0;36m<module>\u001b[0;34m()\u001b[0m\n\u001b[0;32m----> 1\u001b[0;31m \u001b[0mstate\u001b[0m\u001b[0;34m\u001b[0m\u001b[0m\n\u001b[0m",
      "\u001b[0;31mNameError\u001b[0m: name 'state' is not defined"
     ]
    }
   ],
   "source": [
    "state"
   ]
  },
  {
   "cell_type": "code",
   "execution_count": null,
   "metadata": {
    "collapsed": true
   },
   "outputs": [],
   "source": [
    "# all_probs = []\n",
    "# for v in testing_history_probs.values():\n",
    "#     all_probs.append(v)\n",
    "    \n",
    "# all_probs = np.array(all_probs).T\n",
    "# vote_by_probs = [int(x > 0.5) for x in all_probs.mean(axis=1)]\n",
    "\n",
    "all_preds = []\n",
    "for v in testing_history.values():\n",
    "    all_preds.append(v)\n",
    "    \n",
    "all_preds = np.array(all_preds).T\n",
    "vote_by_preds = [int(x > 0.5) for x in all_preds.mean(axis=1)]\n",
    "\n",
    "# testing_history['vote_by_probs'] = vote_by_probs\n",
    "testing_history['vote_by_preds'] = vote_by_preds"
   ]
  },
  {
   "cell_type": "code",
   "execution_count": null,
   "metadata": {},
   "outputs": [],
   "source": [
    "truth = feature_df[(feature_df['next_date'] >= '2017-01-31') & (feature_df['next_date'] < '2018-01-31')]['label']\n",
    "for name, preds in testing_history.items():\n",
    "    plt.plot()\n",
    "    print(\"{}: {} \".format(name, accuracy_score(truth, preds)))\n",
    "    cm = confusion_matrix(truth, preds)\n",
    "    tn, fp, fn, tp = cm[0][0], cm[0][1], cm[1][0], cm[1][1]\n",
    "    recall = tp / (tp + fn)\n",
    "    precision = tp / (tp + fp)\n",
    "#     print(\"True Negative: {}\".format(tn))\n",
    "#     print(\"False Positive: {}\".format(fp))\n",
    "#     print(\"False Negative: {}\".format(fn))\n",
    "#     print(\"True Positive: {}\".format(tp))\n",
    "    print(\"Recall: {}**\".format(recall))\n",
    "    print(\"Precision: {}\".format(precision))\n",
    "    print(cm)\n",
    "    print('-'*10)"
   ]
  },
  {
   "cell_type": "code",
   "execution_count": null,
   "metadata": {},
   "outputs": [],
   "source": [
    "importances_df = pd.DataFrame()\n",
    "importances_df['feature'] = feature_df.drop(extra_columns, axis=1).columns\n",
    "\n",
    "for state, model in trained_models['XGBoost'].items():\n",
    "    importances_df[state] = model.best_estimator_.feature_importances_\n",
    "    \n",
    "importances_df['avg'] = importances_df.mean(axis=1)\n",
    "importances_df.sort_values('avg', ascending=False)[['feature', 'avg']].head(20)"
   ]
  },
  {
   "cell_type": "code",
   "execution_count": null,
   "metadata": {},
   "outputs": [],
   "source": [
    "importances_df = pd.DataFrame()\n",
    "importances_df['feature'] = feature_df.drop(extra_columns, axis=1).columns\n",
    "\n",
    "for state, model in trained_models['Logistic Reg'].items():\n",
    "    importances_df[state] = np.abs(model.best_estimator_.coef_[0])\n",
    "    \n",
    "importances_df['avg'] = importances_df.mean(axis=1)\n",
    "importances_df.sort_values('avg', ascending=False)[['feature', 'avg']].head(20)"
   ]
  },
  {
   "cell_type": "code",
   "execution_count": null,
   "metadata": {},
   "outputs": [],
   "source": [
    "probs = testing_history_probs['XGBoost']\n",
    "cap_df = pd.DataFrame(truth)\n",
    "cap_df['probs'] = probs\n",
    "cap_df = cap_df.sort_values('probs')\n",
    "cap_df['cap'] = cap_df['label'].cumsum() / cap_df['label'].sum()\n",
    "cap_df.head(258).tail(5)"
   ]
  }
 ],
 "metadata": {
  "kernelspec": {
   "display_name": "Python 3",
   "language": "python",
   "name": "python3"
  },
  "language_info": {
   "codemirror_mode": {
    "name": "ipython",
    "version": 3
   },
   "file_extension": ".py",
   "mimetype": "text/x-python",
   "name": "python",
   "nbconvert_exporter": "python",
   "pygments_lexer": "ipython3",
   "version": "3.6.2"
  }
 },
 "nbformat": 4,
 "nbformat_minor": 2
}

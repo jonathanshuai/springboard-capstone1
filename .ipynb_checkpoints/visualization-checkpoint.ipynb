{
 "cells": [
  {
   "cell_type": "markdown",
   "metadata": {},
   "source": [
    "# Visualization\n",
    "In this notebook, we use the data organized in the 'clean-data' notebook to make visualziations."
   ]
  },
  {
   "cell_type": "code",
   "execution_count": 8,
   "metadata": {},
   "outputs": [],
   "source": [
    "# Numpy and pandas for manipulating the data\n",
    "import numpy as np\n",
    "import pandas as pd\n",
    "import scipy.stats\n",
    "\n",
    "# Matplotlib and seaborn for visualization\n",
    "import matplotlib as mpl\n",
    "from matplotlib import pyplot as plt\n",
    "import seaborn as sns\n",
    "\n",
    "import plotly\n",
    "import plotly.plotly as py\n",
    "import plotly.figure_factory as ff"
   ]
  },
  {
   "cell_type": "code",
   "execution_count": 9,
   "metadata": {
    "collapsed": true
   },
   "outputs": [],
   "source": [
    "# First let's read in our clean data\n",
    "provisions_file = './data/raw/provisions.csv' # We'll need this\n",
    "annual_file = './data/cleaned/annual_gun.csv'\n",
    "by_date_norm_file = './data/cleaned/by_date_norm.csv'\n",
    "by_date_total_file = './data/cleaned/by_date_total.csv'\n",
    "feature_file = './data/cleaned/features.csv'\n",
    "overall_file = './data/cleaned/overall.csv'\n",
    "\n",
    "\n",
    "provisions_df = pd.read_csv(provisions_file, parse_dates=True)\n",
    "annual_df = pd.read_csv(annual_file, parse_dates=True, index_col=0)\n",
    "by_date_norm_df = pd.read_csv(by_date_norm_file, parse_dates=True, index_col=0)\n",
    "by_date_total_df = pd.read_csv(by_date_total_file, parse_dates=True, index_col=0)\n",
    "feature_df = pd.read_csv(feature_file, parse_dates=True, index_col=0)\n",
    "overall_df = pd.read_csv(overall_file, parse_dates=True, index_col=0)"
   ]
  },
  {
   "cell_type": "code",
   "execution_count": 20,
   "metadata": {},
   "outputs": [
    {
     "ename": "ValueError",
     "evalue": "invalid literal for int() with base 10: 'Alabama'",
     "output_type": "error",
     "traceback": [
      "\u001b[0;31m---------------------------------------------------------------------------\u001b[0m",
      "\u001b[0;31mValueError\u001b[0m                                Traceback (most recent call last)",
      "\u001b[0;32m<ipython-input-20-ab3324699243>\u001b[0m in \u001b[0;36m<module>\u001b[0;34m()\u001b[0m\n\u001b[1;32m    153\u001b[0m     \u001b[0mshow_state_data\u001b[0m\u001b[0;34m=\u001b[0m\u001b[0;32mFalse\u001b[0m\u001b[0;34m,\u001b[0m\u001b[0;34m\u001b[0m\u001b[0m\n\u001b[1;32m    154\u001b[0m     \u001b[0mshow_hover\u001b[0m\u001b[0;34m=\u001b[0m\u001b[0;32mTrue\u001b[0m\u001b[0;34m,\u001b[0m \u001b[0mcentroid_marker\u001b[0m\u001b[0;34m=\u001b[0m\u001b[0;34m{\u001b[0m\u001b[0;34m'opacity'\u001b[0m\u001b[0;34m:\u001b[0m \u001b[0;36m0\u001b[0m\u001b[0;34m}\u001b[0m\u001b[0;34m,\u001b[0m\u001b[0;34m\u001b[0m\u001b[0m\n\u001b[0;32m--> 155\u001b[0;31m     \u001b[0masp\u001b[0m\u001b[0;34m=\u001b[0m\u001b[0;36m2.9\u001b[0m\u001b[0;34m,\u001b[0m \u001b[0mtitle\u001b[0m\u001b[0;34m=\u001b[0m\u001b[0;34m'Average US Gun Homicide Rates (2000-2017)'\u001b[0m\u001b[0;34m,\u001b[0m\u001b[0;34m\u001b[0m\u001b[0m\n\u001b[0m\u001b[1;32m    156\u001b[0m     )\n\u001b[1;32m    157\u001b[0m \u001b[0;34m\u001b[0m\u001b[0m\n",
      "\u001b[0;32m~/anaconda3/lib/python3.6/site-packages/plotly/figure_factory/_county_choropleth.py\u001b[0m in \u001b[0;36mcreate_choropleth\u001b[0;34m(fips, values, scope, binning_endpoints, colorscale, order, simplify_county, simplify_state, asp, show_hover, show_state_data, state_outline, county_outline, centroid_marker, round_legend_values, exponent_format, legend_title, **layout_options)\u001b[0m\n\u001b[1;32m    715\u001b[0m     \u001b[0mfips_not_in_shapefile\u001b[0m \u001b[0;34m=\u001b[0m \u001b[0;34m[\u001b[0m\u001b[0;34m]\u001b[0m\u001b[0;34m\u001b[0m\u001b[0m\n\u001b[1;32m    716\u001b[0m     \u001b[0;32mif\u001b[0m \u001b[0;32mnot\u001b[0m \u001b[0mbinning_endpoints\u001b[0m\u001b[0;34m:\u001b[0m\u001b[0;34m\u001b[0m\u001b[0m\n\u001b[0;32m--> 717\u001b[0;31m         \u001b[0;32mfor\u001b[0m \u001b[0mindex\u001b[0m\u001b[0;34m,\u001b[0m \u001b[0mf\u001b[0m \u001b[0;32min\u001b[0m \u001b[0menumerate\u001b[0m\u001b[0;34m(\u001b[0m\u001b[0mfips\u001b[0m\u001b[0;34m)\u001b[0m\u001b[0;34m:\u001b[0m\u001b[0;34m\u001b[0m\u001b[0m\n\u001b[0m\u001b[1;32m    718\u001b[0m             \u001b[0mlevel\u001b[0m \u001b[0;34m=\u001b[0m \u001b[0mvalues\u001b[0m\u001b[0;34m[\u001b[0m\u001b[0mindex\u001b[0m\u001b[0;34m]\u001b[0m\u001b[0;34m\u001b[0m\u001b[0m\n\u001b[1;32m    719\u001b[0m             \u001b[0;32mtry\u001b[0m\u001b[0;34m:\u001b[0m\u001b[0;34m\u001b[0m\u001b[0m\n",
      "\u001b[0;32m~/anaconda3/lib/python3.6/site-packages/plotly/figure_factory/_county_choropleth.py\u001b[0m in \u001b[0;36m<lambda>\u001b[0;34m(x)\u001b[0m\n\u001b[1;32m    606\u001b[0m \u001b[0;34m\u001b[0m\u001b[0m\n\u001b[1;32m    607\u001b[0m     \u001b[0;31m# make fips numeric\u001b[0m\u001b[0;34m\u001b[0m\u001b[0;34m\u001b[0m\u001b[0m\n\u001b[0;32m--> 608\u001b[0;31m     \u001b[0mfips\u001b[0m \u001b[0;34m=\u001b[0m \u001b[0mmap\u001b[0m\u001b[0;34m(\u001b[0m\u001b[0;32mlambda\u001b[0m \u001b[0mx\u001b[0m\u001b[0;34m:\u001b[0m \u001b[0mint\u001b[0m\u001b[0;34m(\u001b[0m\u001b[0mx\u001b[0m\u001b[0;34m)\u001b[0m\u001b[0;34m,\u001b[0m \u001b[0mfips\u001b[0m\u001b[0;34m)\u001b[0m\u001b[0;34m\u001b[0m\u001b[0m\n\u001b[0m\u001b[1;32m    609\u001b[0m \u001b[0;34m\u001b[0m\u001b[0m\n\u001b[1;32m    610\u001b[0m     \u001b[0;32mif\u001b[0m \u001b[0mbinning_endpoints\u001b[0m\u001b[0;34m:\u001b[0m\u001b[0;34m\u001b[0m\u001b[0m\n",
      "\u001b[0;31mValueError\u001b[0m: invalid literal for int() with base 10: 'Alabama'"
     ]
    }
   ],
   "source": [
    "# For our first visualizations, let's just plot the gun homicide trend in two ways:\n",
    "# Daily mean with window from 2014-2017\n",
    "win_size = 60\n",
    "country_gun_df = by_date_total_df['2014':'2017'].sum(axis=1)\n",
    "country_gun_df.rolling(window=win_size).mean().plot()\n",
    "plt.title('US Daily Gun Homicides (2014-2017)')\n",
    "plt.xlabel('Date')\n",
    "plt.ylabel('Number of Gun Homicides (average over {} day window)'.format(win_size))\n",
    "plt.show()\n",
    "\n",
    "# Annual from 1999-2017\n",
    "country_annual_df = annual_df[['state', 'year', 'gun_deaths']].groupby('year').sum()\n",
    "country_annual_df.plot(marker='.')\n",
    "plt.title('US Annual Gun Homicides (1999-2017)')\n",
    "plt.xlabel('Year')\n",
    "plt.ylabel('Number of Gun Homicides')\n",
    "plt.ylim(0)\n",
    "[plt.annotate(int(y), xy=(x, y), textcoords='data') for x, y in zip(country_annual_df.index, country_annual_df['gun_deaths'])]\n",
    "plt.show()\n",
    "\n",
    "\n",
    "# Plot gun deaths as they relate to other crime, income, and total gun control laws\n",
    "style_kwargs = {\n",
    "                's': 3,  # set marker size\n",
    "                'alpha': 0.15,\n",
    "                }\n",
    "\n",
    "plt.subplot(3, 1, 1)\n",
    "sns.regplot(overall_df['other_crime_norm'], overall_df['gun_deaths_norm'], style_kwargs)\n",
    "\n",
    "plt.subplot(3, 1, 2)\n",
    "sns.regplot(overall_df['income'], overall_df['gun_deaths_norm'], style_kwargs)\n",
    "\n",
    "plt.subplot(3, 1, 3)\n",
    "sns.regplot(overall_df['lawtotal'], overall_df['gun_deaths_norm'], style_kwargs)\n",
    "# plt.show()\n",
    "\n",
    "\n",
    "# Plot gun deaths as they relate to alcohol consumption\n",
    "plt.subplot(4, 1, 1)\n",
    "sns.regplot(overall_df['beer'], overall_df['gun_deaths_norm'], style_kwargs)\n",
    "\n",
    "plt.subplot(4, 1, 2)\n",
    "sns.regplot(overall_df['wine'], overall_df['gun_deaths_norm'], style_kwargs)\n",
    "\n",
    "plt.subplot(4, 1, 3)\n",
    "sns.regplot(overall_df['spirits'], overall_df['gun_deaths_norm'], style_kwargs)\n",
    "\n",
    "plt.subplot(4, 1, 4)\n",
    "sns.regplot(overall_df['all'], overall_df['gun_deaths_norm'], style_kwargs)\n",
    "# plt.show()\n",
    "\n",
    "\n",
    "# Threshold number of states to have a law before we examine it\n",
    "threshold = 15\n",
    "\n",
    "def compare_provisions(annual_df, provisions_df, threshold=15, year=2017):\n",
    "    \"\"\"Return a DataFrame containing difference in population normed gun homicides and p_values\n",
    "    \n",
    "    threshold   (int): the minimum number of states that have the provision for it to be included in the results.\n",
    "    This prevents misleading results (e.g. laws only Hawaii has) and helps to control for sample size difference.\n",
    "\n",
    "    year        (int): the year which we should conduct our comparisons in. We focus on one year because we used \n",
    "    an independent t-test and observations from the same state across different years are surely not independent,\n",
    "    whereas observations from different states are independent.   \n",
    "    \"\"\"\n",
    "\n",
    "    # Create a dataframe with 2017 entires \n",
    "    provisions = provisions_df.columns[2:-1]\n",
    "    filtered_df = pd.merge(annual_df, provisions_df)\n",
    "    filtered_df = filtered_df[filtered_df['year'] == 2017]\n",
    "\n",
    "    # Remove where provisions sum less than threshold\n",
    "    provisions = provisions[filtered_df[provisions].sum() > threshold]\n",
    "\n",
    "    # Lists to keep track of gun homicides for states with and without each law along with the p values\n",
    "    a_list, b_list, p_list, a_size_list = [], [], [], []\n",
    "\n",
    "    # Find differences between states w/wo each law\n",
    "    for p in provisions:\n",
    "        ab = filtered_df.groupby(p)['gun_deaths_norm'].mean()\n",
    "        # Append the a and b means to a_list and b_list\n",
    "        a_list.append(ab[0])\n",
    "        b_list.append(ab[1])\n",
    "\n",
    "        # Get a p value using the Welch's t-test; **assumptions of t-test\n",
    "        without_law = filtered_df[filtered_df[p] == 0]['gun_deaths_norm']\n",
    "        with_law = filtered_df[filtered_df[p] == 1]['gun_deaths_norm']\n",
    "        p_list.append(scipy.stats.ttest_ind(without_law, with_law).pvalue)\n",
    "\n",
    "        a_size_list.append(filtered_df[filtered_df[p] == 0].shape[0])\n",
    "\n",
    "    # Organize our results in a dataframe to make it easy to read\n",
    "    results_df = pd.DataFrame()\n",
    "    results_df['provision'] = provisions\n",
    "    results_df['without'] = a_list\n",
    "    results_df['with'] = b_list\n",
    "    results_df['diff'] = results_df['without'] - results_df['with'] \n",
    "    results_df['p_value'] = p_list\n",
    "    results_df['n_without'] = a_size_list\n",
    "    results_df = results_df.sort_values('diff', ascending=False)\n",
    "\n",
    "    return results_df\n",
    "\n",
    "\n",
    "results = compare_provisions(annual_df, provisions_df, 15, 2017)\n",
    "\n",
    "\n"
   ]
  },
  {
   "cell_type": "code",
   "execution_count": 38,
   "metadata": {},
   "outputs": [
    {
     "data": {
      "text/html": [
       "<iframe id=\"igraph\" scrolling=\"no\" style=\"border:none;\" seamless=\"seamless\" src=\"https://plot.ly/~jshuai/2.embed\" height=\"525px\" width=\"100%\"></iframe>"
      ],
      "text/plain": [
       "<plotly.tools.PlotlyDisplay object>"
      ]
     },
     "execution_count": 38,
     "metadata": {},
     "output_type": "execute_result"
    }
   ],
   "source": [
    "# Map out the normalized crime\n",
    "# Dictionary to turn state names into abbreviations\n",
    "states_codes = {\n",
    "    'Alaska': 'AK', 'Alabama': 'AL', 'Arkansas': 'AR', 'Arizona': 'AZ', 'California': 'CA', \n",
    "    'Colorado': 'CO', 'Connecticut': 'CT', 'District of Columbia': 'DC', 'Delaware': 'DE', \n",
    "    'Florida': 'FL', 'Georgia': 'GA', 'Hawaii': 'HI', 'Iowa': 'IA', 'Idaho': 'ID', \n",
    "    'Illinois': 'IL', 'Indiana': 'IN', 'Kansas': 'KS', 'Kentucky': 'KY', 'Louisiana': 'LA', \n",
    "    'Massachusetts': 'MA', 'Maryland': 'MD', 'Maine': 'ME', 'Michigan': 'MI', \n",
    "    'Minnesota': 'MN', 'Missouri': 'MO', 'Northern Mariana Islands': 'MP', 'Mississippi': 'MS', \n",
    "    'Montana': 'MT', 'North Carolina': 'NC', 'North Dakota': 'ND', 'Nebraska': 'NE', \n",
    "    'New Hampshire': 'NH', 'New Jersey': 'NJ', 'New Mexico': 'NM', 'Nevada': 'NV', \n",
    "    'New York': 'NY', 'Ohio': 'OH', 'Oklahoma': 'OK', 'Oregon': 'OR', 'Pennsylvania': 'PA', \n",
    "    'Rhode Island': 'RI', 'South Carolina': 'SC', 'South Dakota': 'SD', 'Tennessee': 'TN', \n",
    "    'Texas': 'TX', 'Utah': 'UT', 'Virginia': 'VA', 'Vermont': 'VT', 'Washington': 'WA', \n",
    "    'Wisconsin': 'WI', 'West Virginia': 'WV', 'Wyoming':  'WY'\n",
    "}\n",
    "\n",
    "# Create a color scale for aesthetics\n",
    "colorscale = [[0.0, 'rgb(3, 169, 244)'],[0.1, 'rgb(41, 182, 246)'],[0.2, 'rgb(79, 195, 247)'],\\\n",
    "            [0.4, 'rgb(129, 212, 250)'],[0.8, 'rgb(179, 229, 252)'],[1.0, 'rgb(225, 245, 254)']]\n",
    "\n",
    "# Mean 2000-2017 murders\n",
    "annual_mean_df = annual_df.groupby('state').mean().reset_index()\n",
    "locations = annual_mean_df['state'].apply(lambda x: states_codes[x])\n",
    "values = annual_mean_df['gun_deaths_norm'].round()\n",
    "\n",
    "data = [ dict(\n",
    "        type='choropleth',\n",
    "        colorscale = colorscale,\n",
    "        autocolorscale = False,\n",
    "        locations = locations,\n",
    "        z = values,\n",
    "        locationmode = 'USA-states',\n",
    "        text = annual_mean_df['state'],\n",
    "        marker = dict(\n",
    "            line = dict (\n",
    "                color = 'rgb(255,255,255)',\n",
    "                width = 2\n",
    "            ) ),\n",
    "        colorbar = dict(\n",
    "            title = \"Homicides per 100,000 people\")\n",
    "        ) ]\n",
    "\n",
    "layout = dict(\n",
    "        title = 'Average US Gun Homicide Rates (2000-2017)',\n",
    "        geo = dict(\n",
    "            scope='usa',\n",
    "            projection=dict( type='albers usa' ),\n",
    "            showlakes = True,\n",
    "            lakecolor = 'rgb(255, 255, 255)'),\n",
    "             )\n",
    "    \n",
    "fig = dict( data=data, layout=layout)\n",
    "\n",
    "py.iplot(fig, validate=False, filename='map')"
   ]
  },
  {
   "cell_type": "code",
   "execution_count": null,
   "metadata": {
    "collapsed": true
   },
   "outputs": [],
   "source": []
  },
  {
   "cell_type": "code",
   "execution_count": null,
   "metadata": {
    "collapsed": true
   },
   "outputs": [],
   "source": []
  },
  {
   "cell_type": "code",
   "execution_count": null,
   "metadata": {
    "collapsed": true
   },
   "outputs": [],
   "source": []
  },
  {
   "cell_type": "code",
   "execution_count": null,
   "metadata": {
    "collapsed": true
   },
   "outputs": [],
   "source": []
  },
  {
   "cell_type": "code",
   "execution_count": null,
   "metadata": {
    "collapsed": true
   },
   "outputs": [],
   "source": []
  },
  {
   "cell_type": "code",
   "execution_count": null,
   "metadata": {
    "collapsed": true
   },
   "outputs": [],
   "source": []
  },
  {
   "cell_type": "code",
   "execution_count": null,
   "metadata": {
    "collapsed": true
   },
   "outputs": [],
   "source": []
  },
  {
   "cell_type": "code",
   "execution_count": null,
   "metadata": {
    "collapsed": true
   },
   "outputs": [],
   "source": []
  },
  {
   "cell_type": "code",
   "execution_count": null,
   "metadata": {
    "collapsed": true
   },
   "outputs": [],
   "source": []
  },
  {
   "cell_type": "code",
   "execution_count": null,
   "metadata": {
    "collapsed": true
   },
   "outputs": [],
   "source": []
  },
  {
   "cell_type": "code",
   "execution_count": null,
   "metadata": {
    "collapsed": true
   },
   "outputs": [],
   "source": []
  },
  {
   "cell_type": "code",
   "execution_count": null,
   "metadata": {
    "collapsed": true
   },
   "outputs": [],
   "source": []
  },
  {
   "cell_type": "code",
   "execution_count": null,
   "metadata": {
    "collapsed": true
   },
   "outputs": [],
   "source": []
  }
 ],
 "metadata": {
  "kernelspec": {
   "display_name": "Python 3",
   "language": "python",
   "name": "python3"
  },
  "language_info": {
   "codemirror_mode": {
    "name": "ipython",
    "version": 3
   },
   "file_extension": ".py",
   "mimetype": "text/x-python",
   "name": "python",
   "nbconvert_exporter": "python",
   "pygments_lexer": "ipython3",
   "version": "3.6.2"
  }
 },
 "nbformat": 4,
 "nbformat_minor": 2
}
